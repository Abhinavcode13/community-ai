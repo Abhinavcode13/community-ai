{
  "nbformat": 4,
  "nbformat_minor": 0,
  "metadata": {
    "colab": {
      "provenance": [],
      "gpuType": "T4"
    },
    "kernelspec": {
      "name": "python3",
      "display_name": "Python 3"
    },
    "language_info": {
      "name": "python"
    },
    "accelerator": "GPU"
  },
  "cells": [
    {
      "cell_type": "code",
      "source": [
        "import os\n",
        "os.environ[\"PINECONE_API_KEY\"] = \"pcsk_\"\n",
        "os.environ[\"OPENAI_API_KEY\"] = \"sk-proj-\""
      ],
      "metadata": {
        "id": "MIU_XAzLE4pD"
      },
      "execution_count": null,
      "outputs": []
    },
    {
      "cell_type": "code",
      "execution_count": null,
      "metadata": {
        "id": "CEXuxmoBVFFO"
      },
      "outputs": [],
      "source": [
        "import logging\n",
        "import sys\n",
        "import os\n",
        "from llama_index.core import VectorStoreIndex, SimpleDirectoryReader\n",
        "from llama_index.vector_stores.pinecone import PineconeVectorStore\n",
        "from IPython.display import Markdown, display\n",
        "\n",
        "logging.basicConfig(stream=sys.stdout, level=logging.INFO)\n",
        "logging.getLogger().addHandler(logging.StreamHandler(stream=sys.stdout))\n",
        "\n",
        "from pinecone import Pinecone, ServerlessSpec\n",
        "api_key = os.environ[\"PINECONE_API_KEY\"]\n",
        "pc = Pinecone(api_key=api_key)\n",
        "\n",
        "pc.create_index(\n",
        "    name=\"mifos\",\n",
        "    dimension=1536,\n",
        "    metric=\"euclidean\",\n",
        "    spec=ServerlessSpec(cloud=\"aws\", region=\"us-east-1\"),\n",
        ")\n",
        "\n",
        "pinecone_index = pc.Index(\"mifos\")\n",
        "documents = SimpleDirectoryReader(\"./data\").load_data()\n",
        "\n",
        "pinecone_index = pc.Index(\"mifos\")\n",
        "\n",
        "from llama_index.core import StorageContext\n",
        "\n",
        "if \"OPENAI_API_KEY\" not in os.environ:\n",
        "    raise EnvironmentError(f\"Environment variable OPENAI_API_KEY is not set\")\n",
        "\n",
        "vector_store = PineconeVectorStore(pinecone_index=pinecone_index)\n",
        "storage_context = StorageContext.from_defaults(vector_store=vector_store)\n",
        "index = VectorStoreIndex.from_vector_store(vector_store)\n",
        "query_engine = index.as_query_engine()\n"
      ]
    },
    {
      "cell_type": "code",
      "source": [
        "chat_engine = index.as_chat_engine(\n",
        "    chat_mode=\"openai\",\n",
        "    similarity_top_k=10,\n",
        "    system_prompt=\"You are a helpful assistant that provides accurate information based on the documents provided.\",\n",
        "    verbose=False\n",
        ")"
      ],
      "metadata": {
        "id": "AGfQshetgqBa"
      },
      "execution_count": null,
      "outputs": []
    },
    {
      "cell_type": "code",
      "source": [
        "response_chat = chat_engine.chat(\"What kind of projects are participants looking for in GSOC 2025?\")\n",
        "display(Markdown(f\"<b>{response_chat}</b>\"))"
      ],
      "metadata": {
        "colab": {
          "base_uri": "https://localhost:8080/",
          "height": 98
        },
        "id": "wldew7OhhFZa",
        "outputId": "4deb643e-bed6-48ea-dc6e-7df520028e68"
      },
      "execution_count": null,
      "outputs": [
        {
          "output_type": "display_data",
          "data": {
            "text/plain": [
              "<IPython.core.display.Markdown object>"
            ],
            "text/markdown": "<b>Participants in GSOC 2025 are looking for projects in various areas such as AI development, NLP, computer vision, Android development, backend development, microservices, scalability, ReactJs, Typescript, Nextjs, Framer, Nodejs, Java, Kotlin, Jetpack Compose, XML, Spring, Angular, DevOps, Generative AI technologies, blockchain, security penetration testing, web application penetration testing, JavaScript, HTML, CSS, ReactJS, C++, Golang, servlet, Hibernate, Spring Boot, and more.</b>"
          },
          "metadata": {}
        }
      ]
    },
    {
      "cell_type": "code",
      "source": [
        "response_pine = query_engine.query(\" How can I participate in Gsoc?\")\n",
        "display(Markdown(f\"<b>{response_pine}</b>\"))"
      ],
      "metadata": {
        "colab": {
          "base_uri": "https://localhost:8080/",
          "height": 98
        },
        "id": "Fzv4MijGVveU",
        "outputId": "e8fcb759-74e9-46da-cb73-4537a8292e40"
      },
      "execution_count": null,
      "outputs": [
        {
          "output_type": "display_data",
          "data": {
            "text/plain": [
              "<IPython.core.display.Markdown object>"
            ],
            "text/markdown": "<b>To participate in GSoC, you can start by looking out for announcements and details about the program on the official GSoC website or through organizations like The Mifos Initiative. Keep an eye out for application deadlines and requirements. It's also beneficial to explore projects that align with your skills and interests, engage with the community, and seek guidance from mentors or experienced participants. Additionally, attending informational sessions, webinars, and volunteering calls can provide valuable insights and help you understand how to get involved in GSoC.</b>"
          },
          "metadata": {}
        }
      ]
    },
    {
      "cell_type": "code",
      "source": [
        "response_chat = chat_engine.chat(\"Can you give suggestions on how to write a good proposal for Gsoc as per the discussion in the channel?\")\n",
        "display(Markdown(f\"<b>{response_chat}</b>\"))"
      ],
      "metadata": {
        "colab": {
          "base_uri": "https://localhost:8080/",
          "height": 196
        },
        "id": "d15EtrHFV22Q",
        "outputId": "eb427a27-d360-43e4-a56c-5ce3f3ec10f4"
      },
      "execution_count": null,
      "outputs": [
        {
          "output_type": "display_data",
          "data": {
            "text/plain": [
              "<IPython.core.display.Markdown object>"
            ],
            "text/markdown": "<b>Here are some suggestions on how to write a good proposal for GSoC:\n\n1. Thoroughly review the project details and understand the requirements.\n2. Clearly outline your approaches and detail how you plan to achieve the project goals.\n3. Provide a detailed timeline and project plan to demonstrate your understanding and confidence in delivering the project.\n4. Focus on relevant points from the project ideas list and ensure your timeline is realistic.\n5. Avoid overpromising and maintain uniform formatting throughout the proposal.\n6. Eliminate any grammatical errors and seek feedback from mentors or past GSoC participants before final submission.\n\nGood luck with your proposal!</b>"
          },
          "metadata": {}
        }
      ]
    },
    {
      "cell_type": "code",
      "source": [
        "response_new = query_engine.query(\"What are the mentor's suggestions while reviewing GSOC proposals?\")\n",
        "display(Markdown(f\"<b>{response_new}</b>\"))"
      ],
      "metadata": {
        "colab": {
          "base_uri": "https://localhost:8080/",
          "height": 46
        },
        "id": "uU0ID80WAnIW",
        "outputId": "66f4581b-2412-4e16-93f6-dceeaf3de232"
      },
      "execution_count": null,
      "outputs": [
        {
          "output_type": "display_data",
          "data": {
            "text/plain": [
              "<IPython.core.display.Markdown object>"
            ],
            "text/markdown": "<b>Try to get your proposal reviewed by mentors before the final submission.</b>"
          },
          "metadata": {}
        }
      ]
    },
    {
      "cell_type": "code",
      "source": [
        "response_new = chat_engine.chat(\"What are the mentor's suggestions while reviewing GSOC proposals?\")\n",
        "display(Markdown(f\"<b>{response_new}</b>\"))"
      ],
      "metadata": {
        "colab": {
          "base_uri": "https://localhost:8080/",
          "height": 98
        },
        "id": "dVBAIAFAQR1I",
        "outputId": "be358117-e45d-468f-8783-9492edfa1481"
      },
      "execution_count": null,
      "outputs": [
        {
          "output_type": "display_data",
          "data": {
            "text/plain": [
              "<IPython.core.display.Markdown object>"
            ],
            "text/markdown": "<b>Mentors provide suggestions while reviewing GSoC proposals to ensure that the proposals align well with the project requirements, have a clear understanding of the objectives, demonstrate a realistic timeline, and showcase the applicant's ability to deliver on the project goals. They may offer feedback on the clarity of the proposal, the feasibility of the proposed implementation, and the overall quality of the plan presented. Additionally, mentors may guide applicants on how to improve their proposals, address any missing details, and enhance the overall presentation to increase the chances of acceptance.</b>"
          },
          "metadata": {}
        }
      ]
    },
    {
      "cell_type": "code",
      "source": [],
      "metadata": {
        "id": "UAz5KSXfQgXh"
      },
      "execution_count": null,
      "outputs": []
    }
  ]
}